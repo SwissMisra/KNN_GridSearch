{
 "cells": [
  {
   "cell_type": "markdown",
   "metadata": {},
   "source": [
    "## Grid Search Hyperparameter optimization"
   ]
  },
  {
   "cell_type": "markdown",
   "metadata": {},
   "source": [
    "This case study is all about using grid searches to identify the optimal parameters for a machine learning algorithm. To complere this case study, you'll use the Pima Indian diabetes dataset from Kaggle and KNN. Follow along with the preprocessing steps of this case study."
   ]
  },
  {
   "cell_type": "markdown",
   "metadata": {
    "tags": []
   },
   "source": [
    "Load the necessary packages"
   ]
  },
  {
   "cell_type": "code",
   "execution_count": 1,
   "metadata": {},
   "outputs": [],
   "source": [
    "import numpy as np\n",
    "import pandas as pd\n",
    "import matplotlib.pyplot as plt\n",
    "import seaborn as sns\n",
    "sns.set()"
   ]
  },
  {
   "cell_type": "markdown",
   "metadata": {
    "tags": []
   },
   "source": [
    "#### Load the diabetes data"
   ]
  },
  {
   "cell_type": "code",
   "execution_count": 2,
   "metadata": {},
   "outputs": [
    {
     "data": {
      "text/html": [
       "<div>\n",
       "<style scoped>\n",
       "    .dataframe tbody tr th:only-of-type {\n",
       "        vertical-align: middle;\n",
       "    }\n",
       "\n",
       "    .dataframe tbody tr th {\n",
       "        vertical-align: top;\n",
       "    }\n",
       "\n",
       "    .dataframe thead th {\n",
       "        text-align: right;\n",
       "    }\n",
       "</style>\n",
       "<table border=\"1\" class=\"dataframe\">\n",
       "  <thead>\n",
       "    <tr style=\"text-align: right;\">\n",
       "      <th></th>\n",
       "      <th>Pregnancies</th>\n",
       "      <th>Glucose</th>\n",
       "      <th>BloodPressure</th>\n",
       "      <th>SkinThickness</th>\n",
       "      <th>Insulin</th>\n",
       "      <th>BMI</th>\n",
       "      <th>DiabetesPedigreeFunction</th>\n",
       "      <th>Age</th>\n",
       "      <th>Outcome</th>\n",
       "    </tr>\n",
       "  </thead>\n",
       "  <tbody>\n",
       "    <tr>\n",
       "      <td>0</td>\n",
       "      <td>6</td>\n",
       "      <td>148</td>\n",
       "      <td>72</td>\n",
       "      <td>35</td>\n",
       "      <td>0</td>\n",
       "      <td>33.6</td>\n",
       "      <td>0.627</td>\n",
       "      <td>50</td>\n",
       "      <td>1</td>\n",
       "    </tr>\n",
       "    <tr>\n",
       "      <td>1</td>\n",
       "      <td>1</td>\n",
       "      <td>85</td>\n",
       "      <td>66</td>\n",
       "      <td>29</td>\n",
       "      <td>0</td>\n",
       "      <td>26.6</td>\n",
       "      <td>0.351</td>\n",
       "      <td>31</td>\n",
       "      <td>0</td>\n",
       "    </tr>\n",
       "    <tr>\n",
       "      <td>2</td>\n",
       "      <td>8</td>\n",
       "      <td>183</td>\n",
       "      <td>64</td>\n",
       "      <td>0</td>\n",
       "      <td>0</td>\n",
       "      <td>23.3</td>\n",
       "      <td>0.672</td>\n",
       "      <td>32</td>\n",
       "      <td>1</td>\n",
       "    </tr>\n",
       "    <tr>\n",
       "      <td>3</td>\n",
       "      <td>1</td>\n",
       "      <td>89</td>\n",
       "      <td>66</td>\n",
       "      <td>23</td>\n",
       "      <td>94</td>\n",
       "      <td>28.1</td>\n",
       "      <td>0.167</td>\n",
       "      <td>21</td>\n",
       "      <td>0</td>\n",
       "    </tr>\n",
       "    <tr>\n",
       "      <td>4</td>\n",
       "      <td>0</td>\n",
       "      <td>137</td>\n",
       "      <td>40</td>\n",
       "      <td>35</td>\n",
       "      <td>168</td>\n",
       "      <td>43.1</td>\n",
       "      <td>2.288</td>\n",
       "      <td>33</td>\n",
       "      <td>1</td>\n",
       "    </tr>\n",
       "  </tbody>\n",
       "</table>\n",
       "</div>"
      ],
      "text/plain": [
       "   Pregnancies  Glucose  BloodPressure  SkinThickness  Insulin   BMI  \\\n",
       "0            6      148             72             35        0  33.6   \n",
       "1            1       85             66             29        0  26.6   \n",
       "2            8      183             64              0        0  23.3   \n",
       "3            1       89             66             23       94  28.1   \n",
       "4            0      137             40             35      168  43.1   \n",
       "\n",
       "   DiabetesPedigreeFunction  Age  Outcome  \n",
       "0                     0.627   50        1  \n",
       "1                     0.351   31        0  \n",
       "2                     0.672   32        1  \n",
       "3                     0.167   21        0  \n",
       "4                     2.288   33        1  "
      ]
     },
     "execution_count": 2,
     "metadata": {},
     "output_type": "execute_result"
    }
   ],
   "source": [
    "diabetes_data = pd.read_csv('diabetes.csv')\n",
    "diabetes_data.head()"
   ]
  },
  {
   "cell_type": "markdown",
   "metadata": {
    "tags": []
   },
   "source": [
    "**<font color='teal'> Start by reviewing the data info.</font>**"
   ]
  },
  {
   "cell_type": "code",
   "execution_count": 3,
   "metadata": {},
   "outputs": [
    {
     "name": "stdout",
     "output_type": "stream",
     "text": [
      "<class 'pandas.core.frame.DataFrame'>\n",
      "RangeIndex: 768 entries, 0 to 767\n",
      "Data columns (total 9 columns):\n",
      "Pregnancies                 768 non-null int64\n",
      "Glucose                     768 non-null int64\n",
      "BloodPressure               768 non-null int64\n",
      "SkinThickness               768 non-null int64\n",
      "Insulin                     768 non-null int64\n",
      "BMI                         768 non-null float64\n",
      "DiabetesPedigreeFunction    768 non-null float64\n",
      "Age                         768 non-null int64\n",
      "Outcome                     768 non-null int64\n",
      "dtypes: float64(2), int64(7)\n",
      "memory usage: 54.1 KB\n"
     ]
    }
   ],
   "source": [
    "diabetes_data.info()"
   ]
  },
  {
   "cell_type": "markdown",
   "metadata": {
    "tags": []
   },
   "source": [
    "**<font color='teal'> Apply the describe function to the data.</font>**"
   ]
  },
  {
   "cell_type": "code",
   "execution_count": 4,
   "metadata": {},
   "outputs": [
    {
     "data": {
      "text/html": [
       "<div>\n",
       "<style scoped>\n",
       "    .dataframe tbody tr th:only-of-type {\n",
       "        vertical-align: middle;\n",
       "    }\n",
       "\n",
       "    .dataframe tbody tr th {\n",
       "        vertical-align: top;\n",
       "    }\n",
       "\n",
       "    .dataframe thead th {\n",
       "        text-align: right;\n",
       "    }\n",
       "</style>\n",
       "<table border=\"1\" class=\"dataframe\">\n",
       "  <thead>\n",
       "    <tr style=\"text-align: right;\">\n",
       "      <th></th>\n",
       "      <th>Pregnancies</th>\n",
       "      <th>Glucose</th>\n",
       "      <th>BloodPressure</th>\n",
       "      <th>SkinThickness</th>\n",
       "      <th>Insulin</th>\n",
       "      <th>BMI</th>\n",
       "      <th>DiabetesPedigreeFunction</th>\n",
       "      <th>Age</th>\n",
       "      <th>Outcome</th>\n",
       "    </tr>\n",
       "  </thead>\n",
       "  <tbody>\n",
       "    <tr>\n",
       "      <td>count</td>\n",
       "      <td>768.000000</td>\n",
       "      <td>768.000000</td>\n",
       "      <td>768.000000</td>\n",
       "      <td>768.000000</td>\n",
       "      <td>768.000000</td>\n",
       "      <td>768.000000</td>\n",
       "      <td>768.000000</td>\n",
       "      <td>768.000000</td>\n",
       "      <td>768.000000</td>\n",
       "    </tr>\n",
       "    <tr>\n",
       "      <td>mean</td>\n",
       "      <td>3.845052</td>\n",
       "      <td>120.894531</td>\n",
       "      <td>69.105469</td>\n",
       "      <td>20.536458</td>\n",
       "      <td>79.799479</td>\n",
       "      <td>31.992578</td>\n",
       "      <td>0.471876</td>\n",
       "      <td>33.240885</td>\n",
       "      <td>0.348958</td>\n",
       "    </tr>\n",
       "    <tr>\n",
       "      <td>std</td>\n",
       "      <td>3.369578</td>\n",
       "      <td>31.972618</td>\n",
       "      <td>19.355807</td>\n",
       "      <td>15.952218</td>\n",
       "      <td>115.244002</td>\n",
       "      <td>7.884160</td>\n",
       "      <td>0.331329</td>\n",
       "      <td>11.760232</td>\n",
       "      <td>0.476951</td>\n",
       "    </tr>\n",
       "    <tr>\n",
       "      <td>min</td>\n",
       "      <td>0.000000</td>\n",
       "      <td>0.000000</td>\n",
       "      <td>0.000000</td>\n",
       "      <td>0.000000</td>\n",
       "      <td>0.000000</td>\n",
       "      <td>0.000000</td>\n",
       "      <td>0.078000</td>\n",
       "      <td>21.000000</td>\n",
       "      <td>0.000000</td>\n",
       "    </tr>\n",
       "    <tr>\n",
       "      <td>25%</td>\n",
       "      <td>1.000000</td>\n",
       "      <td>99.000000</td>\n",
       "      <td>62.000000</td>\n",
       "      <td>0.000000</td>\n",
       "      <td>0.000000</td>\n",
       "      <td>27.300000</td>\n",
       "      <td>0.243750</td>\n",
       "      <td>24.000000</td>\n",
       "      <td>0.000000</td>\n",
       "    </tr>\n",
       "    <tr>\n",
       "      <td>50%</td>\n",
       "      <td>3.000000</td>\n",
       "      <td>117.000000</td>\n",
       "      <td>72.000000</td>\n",
       "      <td>23.000000</td>\n",
       "      <td>30.500000</td>\n",
       "      <td>32.000000</td>\n",
       "      <td>0.372500</td>\n",
       "      <td>29.000000</td>\n",
       "      <td>0.000000</td>\n",
       "    </tr>\n",
       "    <tr>\n",
       "      <td>75%</td>\n",
       "      <td>6.000000</td>\n",
       "      <td>140.250000</td>\n",
       "      <td>80.000000</td>\n",
       "      <td>32.000000</td>\n",
       "      <td>127.250000</td>\n",
       "      <td>36.600000</td>\n",
       "      <td>0.626250</td>\n",
       "      <td>41.000000</td>\n",
       "      <td>1.000000</td>\n",
       "    </tr>\n",
       "    <tr>\n",
       "      <td>max</td>\n",
       "      <td>17.000000</td>\n",
       "      <td>199.000000</td>\n",
       "      <td>122.000000</td>\n",
       "      <td>99.000000</td>\n",
       "      <td>846.000000</td>\n",
       "      <td>67.100000</td>\n",
       "      <td>2.420000</td>\n",
       "      <td>81.000000</td>\n",
       "      <td>1.000000</td>\n",
       "    </tr>\n",
       "  </tbody>\n",
       "</table>\n",
       "</div>"
      ],
      "text/plain": [
       "       Pregnancies     Glucose  BloodPressure  SkinThickness     Insulin  \\\n",
       "count   768.000000  768.000000     768.000000     768.000000  768.000000   \n",
       "mean      3.845052  120.894531      69.105469      20.536458   79.799479   \n",
       "std       3.369578   31.972618      19.355807      15.952218  115.244002   \n",
       "min       0.000000    0.000000       0.000000       0.000000    0.000000   \n",
       "25%       1.000000   99.000000      62.000000       0.000000    0.000000   \n",
       "50%       3.000000  117.000000      72.000000      23.000000   30.500000   \n",
       "75%       6.000000  140.250000      80.000000      32.000000  127.250000   \n",
       "max      17.000000  199.000000     122.000000      99.000000  846.000000   \n",
       "\n",
       "              BMI  DiabetesPedigreeFunction         Age     Outcome  \n",
       "count  768.000000                768.000000  768.000000  768.000000  \n",
       "mean    31.992578                  0.471876   33.240885    0.348958  \n",
       "std      7.884160                  0.331329   11.760232    0.476951  \n",
       "min      0.000000                  0.078000   21.000000    0.000000  \n",
       "25%     27.300000                  0.243750   24.000000    0.000000  \n",
       "50%     32.000000                  0.372500   29.000000    0.000000  \n",
       "75%     36.600000                  0.626250   41.000000    1.000000  \n",
       "max     67.100000                  2.420000   81.000000    1.000000  "
      ]
     },
     "execution_count": 4,
     "metadata": {},
     "output_type": "execute_result"
    }
   ],
   "source": [
    "diabetes_data.describe()"
   ]
  },
  {
   "cell_type": "markdown",
   "metadata": {
    "tags": []
   },
   "source": [
    "**<font color='teal'> Currently, the missing values in the dataset are represented as zeros. Replace the zero values in the following columns ['Glucose','BloodPressure','SkinThickness','Insulin','BMI'] with nan .</font>**"
   ]
  },
  {
   "cell_type": "code",
   "execution_count": 5,
   "metadata": {},
   "outputs": [
    {
     "name": "stderr",
     "output_type": "stream",
     "text": [
      "C:\\Users\\SiddharthaMisra\\Anaconda3\\lib\\site-packages\\pandas\\core\\frame.py:4263: SettingWithCopyWarning: \n",
      "A value is trying to be set on a copy of a slice from a DataFrame\n",
      "\n",
      "See the caveats in the documentation: http://pandas.pydata.org/pandas-docs/stable/user_guide/indexing.html#returning-a-view-versus-a-copy\n",
      "  method=method,\n"
     ]
    }
   ],
   "source": [
    "diabetes_data[['Glucose','BloodPressure','SkinThickness','Insulin','BMI']].replace(0,np.nan, inplace=True)"
   ]
  },
  {
   "cell_type": "markdown",
   "metadata": {
    "tags": []
   },
   "source": [
    "**<font color='teal'> Plot histograms of each column. </font>**"
   ]
  },
  {
   "cell_type": "code",
   "execution_count": 6,
   "metadata": {},
   "outputs": [
    {
     "data": {
      "text/plain": [
       "array([[<matplotlib.axes._subplots.AxesSubplot object at 0x00000257FE29E448>,\n",
       "        <matplotlib.axes._subplots.AxesSubplot object at 0x00000257FE624908>,\n",
       "        <matplotlib.axes._subplots.AxesSubplot object at 0x00000257FE65A4C8>],\n",
       "       [<matplotlib.axes._subplots.AxesSubplot object at 0x00000257FE68DF88>,\n",
       "        <matplotlib.axes._subplots.AxesSubplot object at 0x00000257FE6CB088>,\n",
       "        <matplotlib.axes._subplots.AxesSubplot object at 0x00000257FE7031C8>],\n",
       "       [<matplotlib.axes._subplots.AxesSubplot object at 0x00000257FE73A2C8>,\n",
       "        <matplotlib.axes._subplots.AxesSubplot object at 0x00000257FE7743C8>,\n",
       "        <matplotlib.axes._subplots.AxesSubplot object at 0x00000257FE77AF88>]],\n",
       "      dtype=object)"
      ]
     },
     "execution_count": 6,
     "metadata": {},
     "output_type": "execute_result"
    },
    {
     "data": {
      "image/png": "[encoded data removed]",
      "text/plain": [
       "<Figure size 1296x576 with 9 Axes>"
      ]
     },
     "metadata": {
      "needs_background": "light"
     },
     "output_type": "display_data"
    }
   ],
   "source": [
    "diabetes_data.hist(figsize=(18,8))"
   ]
  },
  {
   "cell_type": "markdown",
   "metadata": {
    "tags": []
   },
   "source": [
    "#### Replace the zeros with mean and median values."
   ]
  },
  {
   "cell_type": "code",
   "execution_count": 7,
   "metadata": {},
   "outputs": [],
   "source": [
    "diabetes_data['Glucose'].fillna(diabetes_data['Glucose'].mean(), inplace = True)\n",
    "diabetes_data['BloodPressure'].fillna(diabetes_data['BloodPressure'].mean(), inplace = True)\n",
    "diabetes_data['SkinThickness'].fillna(diabetes_data['SkinThickness'].median(), inplace = True)\n",
    "diabetes_data['Insulin'].fillna(diabetes_data['Insulin'].median(), inplace = True)\n",
    "diabetes_data['BMI'].fillna(diabetes_data['BMI'].median(), inplace = True)"
   ]
  },
  {
   "cell_type": "markdown",
   "metadata": {
    "tags": []
   },
   "source": [
    "**<font color='teal'> Plot histograms of each column after replacing nan. </font>**"
   ]
  },
  {
   "cell_type": "code",
   "execution_count": 8,
   "metadata": {},
   "outputs": [
    {
     "data": {
      "text/plain": [
       "array([[<matplotlib.axes._subplots.AxesSubplot object at 0x00000257FED1C688>,\n",
       "        <matplotlib.axes._subplots.AxesSubplot object at 0x00000257FED6EE88>,\n",
       "        <matplotlib.axes._subplots.AxesSubplot object at 0x00000257FE95D048>],\n",
       "       [<matplotlib.axes._subplots.AxesSubplot object at 0x00000257FE992A08>,\n",
       "        <matplotlib.axes._subplots.AxesSubplot object at 0x00000257FE9CB408>,\n",
       "        <matplotlib.axes._subplots.AxesSubplot object at 0x00000257FEA01DC8>],\n",
       "       [<matplotlib.axes._subplots.AxesSubplot object at 0x00000257FEA3B748>,\n",
       "        <matplotlib.axes._subplots.AxesSubplot object at 0x00000257FEA745C8>,\n",
       "        <matplotlib.axes._subplots.AxesSubplot object at 0x00000257FEA811C8>]],\n",
       "      dtype=object)"
      ]
     },
     "execution_count": 8,
     "metadata": {},
     "output_type": "execute_result"
    },
    {
     "data": {
      "image/png": "[encoded data removed]",
      "text/plain": [
       "<Figure size 1296x576 with 9 Axes>"
      ]
     },
     "metadata": {
      "needs_background": "light"
     },
     "output_type": "display_data"
    }
   ],
   "source": [
    "diabetes_data.hist(figsize=(18,8))"
   ]
  },
  {
   "cell_type": "markdown",
   "metadata": {
    "tags": []
   },
   "source": [
    "#### Plot the correlation matrix heatmap"
   ]
  },
  {
   "cell_type": "code",
   "execution_count": 9,
   "metadata": {},
   "outputs": [
    {
     "name": "stdout",
     "output_type": "stream",
     "text": [
      "Correlation between various features\n"
     ]
    },
    {
     "data": {
      "image/png": "[encoded data removed]",
      "text/plain": [
       "<Figure size 864x720 with 2 Axes>"
      ]
     },
     "metadata": {
      "needs_background": "light"
     },
     "output_type": "display_data"
    }
   ],
   "source": [
    "plt.figure(figsize=(12,10))\n",
    "print('Correlation between various features')\n",
    "p=sns.heatmap(diabetes_data.corr(), annot=True,cmap ='Blues')"
   ]
  },
  {
   "cell_type": "markdown",
   "metadata": {},
   "source": [
    "#### <i>Note</i> ####\n",
    "My understanding is that splitting data AFTER scaling will introduce the influence of test data on the training data. To preserve the scale of the training data, I have switched these steps."
   ]
  },
  {
   "cell_type": "markdown",
   "metadata": {
    "tags": []
   },
   "source": [
    "**<font color='teal'> Define the `y` variable as the `Outcome` column.</font>**"
   ]
  },
  {
   "cell_type": "code",
   "execution_count": 10,
   "metadata": {
    "scrolled": false
   },
   "outputs": [],
   "source": [
    "y = diabetes_data['Outcome']\n",
    "x = diabetes_data.drop('Outcome', axis=1)"
   ]
  },
  {
   "cell_type": "markdown",
   "metadata": {
    "tags": []
   },
   "source": [
    "**<font color='teal'> Create a 70/30 train and test split. </font>**"
   ]
  },
  {
   "cell_type": "code",
   "execution_count": 11,
   "metadata": {},
   "outputs": [],
   "source": [
    "from sklearn.model_selection import train_test_split\n",
    "x_train, x_test, y_train, y_test = train_test_split(x, y, test_size=0.3, random_state=32)"
   ]
  },
  {
   "cell_type": "markdown",
   "metadata": {
    "tags": []
   },
   "source": [
    "**<font color='teal'> Using Sklearn, standarize the magnitude of the features by scaling the values. </font>**"
   ]
  },
  {
   "cell_type": "code",
   "execution_count": 12,
   "metadata": {},
   "outputs": [],
   "source": [
    "from sklearn.preprocessing import StandardScaler\n",
    "scaler = StandardScaler()\n",
    "x_scaler = scaler.fit(x_train)\n",
    "x_train_scaled = scaler.transform(x_train)\n",
    "x_test_scaled = scaler.transform(x_test)"
   ]
  },
  {
   "cell_type": "markdown",
   "metadata": {
    "tags": []
   },
   "source": [
    "#### Using a range of neighbor values of 1-10, apply the KNearestNeighbor classifier to classify the the data."
   ]
  },
  {
   "cell_type": "code",
   "execution_count": 13,
   "metadata": {},
   "outputs": [],
   "source": [
    "from sklearn.neighbors import KNeighborsClassifier\n",
    "\n",
    "\n",
    "test_scores = []\n",
    "train_scores = []\n",
    "\n",
    "for i in range(1,10):\n",
    "\n",
    "    knn = KNeighborsClassifier(n_neighbors=i)\n",
    "    knn.fit(x_train_scaled,y_train)\n",
    "    \n",
    "    train_scores.append(knn.score(x_train_scaled,y_train))\n",
    "    test_scores.append(knn.score(x_test_scaled,y_test))"
   ]
  },
  {
   "cell_type": "markdown",
   "metadata": {
    "tags": []
   },
   "source": [
    "**<font color='teal'> Print the train and test scores for each iteration.</font>**"
   ]
  },
  {
   "cell_type": "code",
   "execution_count": 14,
   "metadata": {},
   "outputs": [
    {
     "name": "stdout",
     "output_type": "stream",
     "text": [
      "1 1.0 0.70995670995671\n",
      "2 0.8230912476722533 0.7359307359307359\n",
      "3 0.8417132216014898 0.7575757575757576\n",
      "4 0.8175046554934823 0.7272727272727273\n",
      "5 0.813780260707635 0.7575757575757576\n",
      "6 0.7821229050279329 0.7316017316017316\n",
      "7 0.7839851024208566 0.7748917748917749\n",
      "8 0.7746741154562383 0.7359307359307359\n",
      "9 0.7783985102420856 0.7575757575757576\n"
     ]
    }
   ],
   "source": [
    "for i in range(0,9):\n",
    "    print(i+1, train_scores[i], test_scores[i])"
   ]
  },
  {
   "cell_type": "markdown",
   "metadata": {
    "tags": []
   },
   "source": [
    "**<font color='teal'> Identify the number of neighbors between 1-15 that resulted in the max score in the training dataset. </font>**"
   ]
  },
  {
   "cell_type": "code",
   "execution_count": 15,
   "metadata": {},
   "outputs": [
    {
     "name": "stdout",
     "output_type": "stream",
     "text": [
      "0.7411545623836127 {'n_neighbors': 3}\n"
     ]
    },
    {
     "name": "stderr",
     "output_type": "stream",
     "text": [
      "C:\\Users\\SiddharthaMisra\\Anaconda3\\lib\\site-packages\\sklearn\\model_selection\\_search.py:814: DeprecationWarning: The default of the `iid` parameter will change from True to False in version 0.22 and will be removed in 0.24. This will change numeric results when test-set sizes are unequal.\n",
      "  DeprecationWarning)\n"
     ]
    }
   ],
   "source": [
    "from sklearn.model_selection import GridSearchCV\n",
    "param_grid = {'n_neighbors':np.arange(1,15)}\n",
    "knn = KNeighborsClassifier()\n",
    "knn_cv= GridSearchCV(knn,param_grid,cv=5)\n",
    "knn_cv.fit(x_train_scaled,y_train)\n",
    "print(knn_cv.best_score_, knn_cv.best_params_)"
   ]
  },
  {
   "cell_type": "markdown",
   "metadata": {
    "tags": []
   },
   "source": [
    "**<font color='teal'> Identify the number of neighbors between 1-15 that resulted in the max score in the testing dataset. </font>**"
   ]
  },
  {
   "cell_type": "code",
   "execution_count": 16,
   "metadata": {},
   "outputs": [
    {
     "name": "stdout",
     "output_type": "stream",
     "text": [
      "0.7575757575757576 {'n_neighbors': 4}\n"
     ]
    },
    {
     "name": "stderr",
     "output_type": "stream",
     "text": [
      "C:\\Users\\SiddharthaMisra\\Anaconda3\\lib\\site-packages\\sklearn\\model_selection\\_search.py:814: DeprecationWarning: The default of the `iid` parameter will change from True to False in version 0.22 and will be removed in 0.24. This will change numeric results when test-set sizes are unequal.\n",
      "  DeprecationWarning)\n"
     ]
    }
   ],
   "source": [
    "param_grid = {'n_neighbors':np.arange(1,15)}\n",
    "knn = KNeighborsClassifier()\n",
    "knn_cv = GridSearchCV(knn,param_grid,cv=5)\n",
    "knn_cv.fit(x_test_scaled,y_test)\n",
    "print(knn_cv.best_score_, knn_cv.best_params_)"
   ]
  },
  {
   "cell_type": "markdown",
   "metadata": {
    "tags": []
   },
   "source": [
    "Plot the train and test model performance by number of neighbors."
   ]
  },
  {
   "cell_type": "code",
   "execution_count": 17,
   "metadata": {},
   "outputs": [
    {
     "data": {
      "image/png": "[encoded data removed]",
      "text/plain": [
       "<Figure size 864x360 with 1 Axes>"
      ]
     },
     "metadata": {
      "needs_background": "light"
     },
     "output_type": "display_data"
    }
   ],
   "source": [
    "plt.figure(figsize=(12,5))\n",
    "p = sns.lineplot(range(1,10),train_scores,marker='*',label='Train Score')\n",
    "p = sns.lineplot(range(1,10),test_scores,marker='o',label='Test Score')"
   ]
  },
  {
   "cell_type": "markdown",
   "metadata": {
    "tags": []
   },
   "source": [
    "**<font color='teal'> Fit and score the best number of neighbors based on the plot. </font>**"
   ]
  },
  {
   "cell_type": "code",
   "execution_count": 18,
   "metadata": {},
   "outputs": [
    {
     "name": "stdout",
     "output_type": "stream",
     "text": [
      "0.7575757575757576\n"
     ]
    }
   ],
   "source": [
    "knn = KNeighborsClassifier(n_neighbors = 3)\n",
    "knn.fit(x_train_scaled,y_train)\n",
    "print(knn.score(x_test_scaled,y_test))"
   ]
  },
  {
   "cell_type": "code",
   "execution_count": 19,
   "metadata": {},
   "outputs": [
    {
     "data": {
      "text/plain": [
       "array([[126,  21],\n",
       "       [ 35,  49]], dtype=int64)"
      ]
     },
     "execution_count": 19,
     "metadata": {},
     "output_type": "execute_result"
    }
   ],
   "source": [
    "from sklearn.metrics import confusion_matrix\n",
    "y_pred = knn.predict(x_test_scaled)\n",
    "pl = confusion_matrix(y_test,y_pred)\n",
    "pl"
   ]
  },
  {
   "cell_type": "markdown",
   "metadata": {
    "tags": []
   },
   "source": [
    "**<font color='teal'> Plot the confusion matrix for the model fit above. </font>**"
   ]
  },
  {
   "cell_type": "code",
   "execution_count": 20,
   "metadata": {},
   "outputs": [
    {
     "data": {
      "image/png": "[encoded data removed]",
      "text/plain": [
       "<Figure size 432x288 with 2 Axes>"
      ]
     },
     "metadata": {
      "needs_background": "light"
     },
     "output_type": "display_data"
    }
   ],
   "source": [
    "sns.heatmap(pl, cmap='Reds')\n",
    "plt.show()"
   ]
  },
  {
   "cell_type": "markdown",
   "metadata": {
    "tags": []
   },
   "source": [
    "**<font color='teal'> Print the classification report </font>**"
   ]
  },
  {
   "cell_type": "code",
   "execution_count": 21,
   "metadata": {},
   "outputs": [
    {
     "name": "stdout",
     "output_type": "stream",
     "text": [
      "              precision    recall  f1-score   support\n",
      "\n",
      "           0       0.78      0.86      0.82       147\n",
      "           1       0.70      0.58      0.64        84\n",
      "\n",
      "    accuracy                           0.76       231\n",
      "   macro avg       0.74      0.72      0.73       231\n",
      "weighted avg       0.75      0.76      0.75       231\n",
      "\n"
     ]
    }
   ],
   "source": [
    "from sklearn.metrics import classification_report\n",
    "print(classification_report(y_test, y_pred))"
   ]
  },
  {
   "cell_type": "markdown",
   "metadata": {
    "tags": []
   },
   "source": [
    "#### In the case of the K nearest neighbors algorithm, the K parameter is one of the most important parameters affecting the model performance.  The model performance isn't horrible, but what if we didn't consider a wide enough range of values in our neighbors for the KNN? An alternative to fitting a loop of models is to use a grid search to identify the proper number. It is common practice to use a grid search method for all adjustable parameters in any type of machine learning algorithm. First, you define the grid — aka the range of values — to test in the parameter being optimized, and then compare the model outcome performance based on the different values in the grid."
   ]
  },
  {
   "cell_type": "markdown",
   "metadata": {
    "tags": []
   },
   "source": [
    "#### Run the code in the next cell to see how to implement the grid search method for identifying the best parameter value for the n_neighbors parameter. Notice the param_grid is the range value to test and we apply cross validation with five folds to score each possible value of n_neighbors."
   ]
  },
  {
   "cell_type": "code",
   "execution_count": 22,
   "metadata": {},
   "outputs": [
    {
     "name": "stderr",
     "output_type": "stream",
     "text": [
      "C:\\Users\\SiddharthaMisra\\Anaconda3\\lib\\site-packages\\sklearn\\model_selection\\_search.py:814: DeprecationWarning: The default of the `iid` parameter will change from True to False in version 0.22 and will be removed in 0.24. This will change numeric results when test-set sizes are unequal.\n",
      "  DeprecationWarning)\n"
     ]
    },
    {
     "data": {
      "text/plain": [
       "GridSearchCV(cv=5, error_score='raise-deprecating',\n",
       "             estimator=KNeighborsClassifier(algorithm='auto', leaf_size=30,\n",
       "                                            metric='minkowski',\n",
       "                                            metric_params=None, n_jobs=None,\n",
       "                                            n_neighbors=5, p=2,\n",
       "                                            weights='uniform'),\n",
       "             iid='warn', n_jobs=None,\n",
       "             param_grid={'n_neighbors': array([ 1,  2,  3,  4,  5,  6,  7,  8,  9, 10, 11, 12, 13, 14, 15, 16, 17,\n",
       "       18, 19, 20, 21, 22, 23, 24, 25, 26, 27, 28, 29, 30, 31, 32, 33, 34,\n",
       "       35, 36, 37, 38, 39, 40, 41, 42, 43, 44, 45, 46, 47, 48, 49])},\n",
       "             pre_dispatch='2*n_jobs', refit=True, return_train_score=False,\n",
       "             scoring=None, verbose=0)"
      ]
     },
     "execution_count": 22,
     "metadata": {},
     "output_type": "execute_result"
    }
   ],
   "source": [
    "param_grid = {'n_neighbors':np.arange(1,50)}\n",
    "knn = KNeighborsClassifier()\n",
    "knn_cv2 = GridSearchCV(knn,param_grid,cv=5)\n",
    "knn_cv2.fit(x_train_scaled,y_train)"
   ]
  },
  {
   "cell_type": "markdown",
   "metadata": {
    "tags": []
   },
   "source": [
    "#### Print the best score and best parameter for n_neighbors."
   ]
  },
  {
   "cell_type": "code",
   "execution_count": 23,
   "metadata": {},
   "outputs": [
    {
     "name": "stdout",
     "output_type": "stream",
     "text": [
      "Best Score:0.7523277467411545\n",
      "Best Parameters: {'n_neighbors': 35}\n"
     ]
    }
   ],
   "source": [
    "print(\"Best Score:\" + str(knn_cv2.best_score_))\n",
    "print(\"Best Parameters: \" + str(knn_cv2.best_params_))"
   ]
  },
  {
   "cell_type": "markdown",
   "metadata": {},
   "source": [
    "Here you can see that the ideal number of n_neighbors for this model is 14 based on the grid search performed. "
   ]
  },
  {
   "cell_type": "markdown",
   "metadata": {
    "tags": []
   },
   "source": [
    "**<font color='teal'> Now, following the KNN example, apply this grid search method to find the optimal number of estimators in a Randon Forest model.\n",
    "</font>**"
   ]
  },
  {
   "cell_type": "code",
   "execution_count": 29,
   "metadata": {},
   "outputs": [
    {
     "name": "stdout",
     "output_type": "stream",
     "text": [
      "Fitting 5 folds for each of 50 candidates, totalling 250 fits\n",
      "[CV] criterion=gini, max_depth=1, n_estimators=200 ...................\n"
     ]
    },
    {
     "name": "stderr",
     "output_type": "stream",
     "text": [
      "[Parallel(n_jobs=1)]: Using backend SequentialBackend with 1 concurrent workers.\n"
     ]
    },
    {
     "name": "stdout",
     "output_type": "stream",
     "text": [
      "[CV] .... criterion=gini, max_depth=1, n_estimators=200, total=   0.5s\n",
      "[CV] criterion=gini, max_depth=1, n_estimators=200 ...................\n"
     ]
    },
    {
     "name": "stderr",
     "output_type": "stream",
     "text": [
      "[Parallel(n_jobs=1)]: Done   1 out of   1 | elapsed:    0.4s remaining:    0.0s\n"
     ]
    },
    {
     "name": "stdout",
     "output_type": "stream",
     "text": [
      "[CV] .... criterion=gini, max_depth=1, n_estimators=200, total=   0.5s\n",
      "[CV] criterion=gini, max_depth=1, n_estimators=200 ...................\n",
      "[CV] .... criterion=gini, max_depth=1, n_estimators=200, total=   0.4s\n",
      "[CV] criterion=gini, max_depth=1, n_estimators=200 ...................\n",
      "[CV] .... criterion=gini, max_depth=1, n_estimators=200, total=   0.4s\n",
      "[CV] criterion=gini, max_depth=1, n_estimators=200 ...................\n",
      "[CV] .... criterion=gini, max_depth=1, n_estimators=200, total=   0.4s\n",
      "[CV] criterion=gini, max_depth=1, n_estimators=400 ...................\n",
      "[CV] .... criterion=gini, max_depth=1, n_estimators=400, total=   0.8s\n",
      "[CV] criterion=gini, max_depth=1, n_estimators=400 ...................\n",
      "[CV] .... criterion=gini, max_depth=1, n_estimators=400, total=   0.9s\n",
      "[CV] criterion=gini, max_depth=1, n_estimators=400 ...................\n",
      "[CV] .... criterion=gini, max_depth=1, n_estimators=400, total=   0.8s\n",
      "[CV] criterion=gini, max_depth=1, n_estimators=400 ...................\n",
      "[CV] .... criterion=gini, max_depth=1, n_estimators=400, total=   0.8s\n",
      "[CV] criterion=gini, max_depth=1, n_estimators=400 ...................\n",
      "[CV] .... criterion=gini, max_depth=1, n_estimators=400, total=   0.9s\n",
      "[CV] criterion=gini, max_depth=1, n_estimators=600 ...................\n",
      "[CV] .... criterion=gini, max_depth=1, n_estimators=600, total=   1.3s\n",
      "[CV] criterion=gini, max_depth=1, n_estimators=600 ...................\n",
      "[CV] .... criterion=gini, max_depth=1, n_estimators=600, total=   1.3s\n",
      "[CV] criterion=gini, max_depth=1, n_estimators=600 ...................\n",
      "[CV] .... criterion=gini, max_depth=1, n_estimators=600, total=   1.3s\n",
      "[CV] criterion=gini, max_depth=1, n_estimators=600 ...................\n",
      "[CV] .... criterion=gini, max_depth=1, n_estimators=600, total=   1.0s\n",
      "[CV] criterion=gini, max_depth=1, n_estimators=600 ...................\n",
      "[CV] .... criterion=gini, max_depth=1, n_estimators=600, total=   1.0s\n",
      "[CV] criterion=gini, max_depth=1, n_estimators=800 ...................\n",
      "[CV] .... criterion=gini, max_depth=1, n_estimators=800, total=   1.1s\n",
      "[CV] criterion=gini, max_depth=1, n_estimators=800 ...................\n",
      "[CV] .... criterion=gini, max_depth=1, n_estimators=800, total=   1.0s\n",
      "[CV] criterion=gini, max_depth=1, n_estimators=800 ...................\n",
      "[CV] .... criterion=gini, max_depth=1, n_estimators=800, total=   1.0s\n",
      "[CV] criterion=gini, max_depth=1, n_estimators=800 ...................\n",
      "[CV] .... criterion=gini, max_depth=1, n_estimators=800, total=   1.0s\n",
      "[CV] criterion=gini, max_depth=1, n_estimators=800 ...................\n",
      "[CV] .... criterion=gini, max_depth=1, n_estimators=800, total=   1.0s\n",
      "[CV] criterion=gini, max_depth=1, n_estimators=1000 ..................\n",
      "[CV] ... criterion=gini, max_depth=1, n_estimators=1000, total=   2.0s\n",
      "[CV] criterion=gini, max_depth=1, n_estimators=1000 ..................\n",
      "[CV] ... criterion=gini, max_depth=1, n_estimators=1000, total=   2.4s\n",
      "[CV] criterion=gini, max_depth=1, n_estimators=1000 ..................\n",
      "[CV] ... criterion=gini, max_depth=1, n_estimators=1000, total=   3.2s\n",
      "[CV] criterion=gini, max_depth=1, n_estimators=1000 ..................\n",
      "[CV] ... criterion=gini, max_depth=1, n_estimators=1000, total=   4.0s\n",
      "[CV] criterion=gini, max_depth=1, n_estimators=1000 ..................\n",
      "[CV] ... criterion=gini, max_depth=1, n_estimators=1000, total=   2.9s\n",
      "[CV] criterion=gini, max_depth=3, n_estimators=200 ...................\n",
      "[CV] .... criterion=gini, max_depth=3, n_estimators=200, total=   0.4s\n",
      "[CV] criterion=gini, max_depth=3, n_estimators=200 ...................\n",
      "[CV] .... criterion=gini, max_depth=3, n_estimators=200, total=   0.5s\n",
      "[CV] criterion=gini, max_depth=3, n_estimators=200 ...................\n",
      "[CV] .... criterion=gini, max_depth=3, n_estimators=200, total=   0.7s\n",
      "[CV] criterion=gini, max_depth=3, n_estimators=200 ...................\n",
      "[CV] .... criterion=gini, max_depth=3, n_estimators=200, total=   0.8s\n",
      "[CV] criterion=gini, max_depth=3, n_estimators=200 ...................\n",
      "[CV] .... criterion=gini, max_depth=3, n_estimators=200, total=   0.7s\n",
      "[CV] criterion=gini, max_depth=3, n_estimators=400 ...................\n",
      "[CV] .... criterion=gini, max_depth=3, n_estimators=400, total=   1.1s\n",
      "[CV] criterion=gini, max_depth=3, n_estimators=400 ...................\n",
      "[CV] .... criterion=gini, max_depth=3, n_estimators=400, total=   0.6s\n",
      "[CV] criterion=gini, max_depth=3, n_estimators=400 ...................\n",
      "[CV] .... criterion=gini, max_depth=3, n_estimators=400, total=   0.8s\n",
      "[CV] criterion=gini, max_depth=3, n_estimators=400 ...................\n",
      "[CV] .... criterion=gini, max_depth=3, n_estimators=400, total=   2.0s\n",
      "[CV] criterion=gini, max_depth=3, n_estimators=400 ...................\n",
      "[CV] .... criterion=gini, max_depth=3, n_estimators=400, total=   1.5s\n",
      "[CV] criterion=gini, max_depth=3, n_estimators=600 ...................\n",
      "[CV] .... criterion=gini, max_depth=3, n_estimators=600, total=   2.1s\n",
      "[CV] criterion=gini, max_depth=3, n_estimators=600 ...................\n",
      "[CV] .... criterion=gini, max_depth=3, n_estimators=600, total=   2.4s\n",
      "[CV] criterion=gini, max_depth=3, n_estimators=600 ...................\n",
      "[CV] .... criterion=gini, max_depth=3, n_estimators=600, total=   1.8s\n",
      "[CV] criterion=gini, max_depth=3, n_estimators=600 ...................\n",
      "[CV] .... criterion=gini, max_depth=3, n_estimators=600, total=   1.9s\n",
      "[CV] criterion=gini, max_depth=3, n_estimators=600 ...................\n",
      "[CV] .... criterion=gini, max_depth=3, n_estimators=600, total=   1.9s\n",
      "[CV] criterion=gini, max_depth=3, n_estimators=800 ...................\n",
      "[CV] .... criterion=gini, max_depth=3, n_estimators=800, total=   2.5s\n",
      "[CV] criterion=gini, max_depth=3, n_estimators=800 ...................\n",
      "[CV] .... criterion=gini, max_depth=3, n_estimators=800, total=   3.2s\n",
      "[CV] criterion=gini, max_depth=3, n_estimators=800 ...................\n",
      "[CV] .... criterion=gini, max_depth=3, n_estimators=800, total=   2.5s\n",
      "[CV] criterion=gini, max_depth=3, n_estimators=800 ...................\n",
      "[CV] .... criterion=gini, max_depth=3, n_estimators=800, total=   2.2s\n",
      "[CV] criterion=gini, max_depth=3, n_estimators=800 ...................\n",
      "[CV] .... criterion=gini, max_depth=3, n_estimators=800, total=   1.3s\n",
      "[CV] criterion=gini, max_depth=3, n_estimators=1000 ..................\n",
      "[CV] ... criterion=gini, max_depth=3, n_estimators=1000, total=   1.8s\n",
      "[CV] criterion=gini, max_depth=3, n_estimators=1000 ..................\n",
      "[CV] ... criterion=gini, max_depth=3, n_estimators=1000, total=   1.6s\n",
      "[CV] criterion=gini, max_depth=3, n_estimators=1000 ..................\n",
      "[CV] ... criterion=gini, max_depth=3, n_estimators=1000, total=   1.6s\n",
      "[CV] criterion=gini, max_depth=3, n_estimators=1000 ..................\n",
      "[CV] ... criterion=gini, max_depth=3, n_estimators=1000, total=   1.8s\n",
      "[CV] criterion=gini, max_depth=3, n_estimators=1000 ..................\n",
      "[CV] ... criterion=gini, max_depth=3, n_estimators=1000, total=   2.1s\n",
      "[CV] criterion=gini, max_depth=5, n_estimators=200 ...................\n",
      "[CV] .... criterion=gini, max_depth=5, n_estimators=200, total=   0.5s\n",
      "[CV] criterion=gini, max_depth=5, n_estimators=200 ...................\n",
      "[CV] .... criterion=gini, max_depth=5, n_estimators=200, total=   0.4s\n",
      "[CV] criterion=gini, max_depth=5, n_estimators=200 ...................\n",
      "[CV] .... criterion=gini, max_depth=5, n_estimators=200, total=   0.4s\n",
      "[CV] criterion=gini, max_depth=5, n_estimators=200 ...................\n",
      "[CV] .... criterion=gini, max_depth=5, n_estimators=200, total=   0.5s\n",
      "[CV] criterion=gini, max_depth=5, n_estimators=200 ...................\n",
      "[CV] .... criterion=gini, max_depth=5, n_estimators=200, total=   0.8s\n",
      "[CV] criterion=gini, max_depth=5, n_estimators=400 ...................\n",
      "[CV] .... criterion=gini, max_depth=5, n_estimators=400, total=   0.8s\n",
      "[CV] criterion=gini, max_depth=5, n_estimators=400 ...................\n",
      "[CV] .... criterion=gini, max_depth=5, n_estimators=400, total=   0.8s\n",
      "[CV] criterion=gini, max_depth=5, n_estimators=400 ...................\n",
      "[CV] .... criterion=gini, max_depth=5, n_estimators=400, total=   0.7s\n",
      "[CV] criterion=gini, max_depth=5, n_estimators=400 ...................\n",
      "[CV] .... criterion=gini, max_depth=5, n_estimators=400, total=   0.7s\n",
      "[CV] criterion=gini, max_depth=5, n_estimators=400 ...................\n"
     ]
    },
    {
     "name": "stdout",
     "output_type": "stream",
     "text": [
      "[CV] .... criterion=gini, max_depth=5, n_estimators=400, total=   1.3s\n",
      "[CV] criterion=gini, max_depth=5, n_estimators=600 ...................\n",
      "[CV] .... criterion=gini, max_depth=5, n_estimators=600, total=   1.2s\n",
      "[CV] criterion=gini, max_depth=5, n_estimators=600 ...................\n",
      "[CV] .... criterion=gini, max_depth=5, n_estimators=600, total=   1.4s\n",
      "[CV] criterion=gini, max_depth=5, n_estimators=600 ...................\n",
      "[CV] .... criterion=gini, max_depth=5, n_estimators=600, total=   1.3s\n",
      "[CV] criterion=gini, max_depth=5, n_estimators=600 ...................\n",
      "[CV] .... criterion=gini, max_depth=5, n_estimators=600, total=   1.4s\n",
      "[CV] criterion=gini, max_depth=5, n_estimators=600 ...................\n",
      "[CV] .... criterion=gini, max_depth=5, n_estimators=600, total=   1.3s\n",
      "[CV] criterion=gini, max_depth=5, n_estimators=800 ...................\n",
      "[CV] .... criterion=gini, max_depth=5, n_estimators=800, total=   2.7s\n",
      "[CV] criterion=gini, max_depth=5, n_estimators=800 ...................\n",
      "[CV] .... criterion=gini, max_depth=5, n_estimators=800, total=   2.2s\n",
      "[CV] criterion=gini, max_depth=5, n_estimators=800 ...................\n",
      "[CV] .... criterion=gini, max_depth=5, n_estimators=800, total=   1.8s\n",
      "[CV] criterion=gini, max_depth=5, n_estimators=800 ...................\n",
      "[CV] .... criterion=gini, max_depth=5, n_estimators=800, total=   2.4s\n",
      "[CV] criterion=gini, max_depth=5, n_estimators=800 ...................\n",
      "[CV] .... criterion=gini, max_depth=5, n_estimators=800, total=   1.6s\n",
      "[CV] criterion=gini, max_depth=5, n_estimators=1000 ..................\n",
      "[CV] ... criterion=gini, max_depth=5, n_estimators=1000, total=   2.4s\n",
      "[CV] criterion=gini, max_depth=5, n_estimators=1000 ..................\n",
      "[CV] ... criterion=gini, max_depth=5, n_estimators=1000, total=   1.9s\n",
      "[CV] criterion=gini, max_depth=5, n_estimators=1000 ..................\n",
      "[CV] ... criterion=gini, max_depth=5, n_estimators=1000, total=   2.0s\n",
      "[CV] criterion=gini, max_depth=5, n_estimators=1000 ..................\n",
      "[CV] ... criterion=gini, max_depth=5, n_estimators=1000, total=   1.7s\n",
      "[CV] criterion=gini, max_depth=5, n_estimators=1000 ..................\n",
      "[CV] ... criterion=gini, max_depth=5, n_estimators=1000, total=   1.5s\n",
      "[CV] criterion=gini, max_depth=7, n_estimators=200 ...................\n",
      "[CV] .... criterion=gini, max_depth=7, n_estimators=200, total=   0.3s\n",
      "[CV] criterion=gini, max_depth=7, n_estimators=200 ...................\n",
      "[CV] .... criterion=gini, max_depth=7, n_estimators=200, total=   0.4s\n",
      "[CV] criterion=gini, max_depth=7, n_estimators=200 ...................\n",
      "[CV] .... criterion=gini, max_depth=7, n_estimators=200, total=   0.7s\n",
      "[CV] criterion=gini, max_depth=7, n_estimators=200 ...................\n",
      "[CV] .... criterion=gini, max_depth=7, n_estimators=200, total=   0.4s\n",
      "[CV] criterion=gini, max_depth=7, n_estimators=200 ...................\n",
      "[CV] .... criterion=gini, max_depth=7, n_estimators=200, total=   0.4s\n",
      "[CV] criterion=gini, max_depth=7, n_estimators=400 ...................\n",
      "[CV] .... criterion=gini, max_depth=7, n_estimators=400, total=   0.7s\n",
      "[CV] criterion=gini, max_depth=7, n_estimators=400 ...................\n",
      "[CV] .... criterion=gini, max_depth=7, n_estimators=400, total=   0.7s\n",
      "[CV] criterion=gini, max_depth=7, n_estimators=400 ...................\n",
      "[CV] .... criterion=gini, max_depth=7, n_estimators=400, total=   0.9s\n",
      "[CV] criterion=gini, max_depth=7, n_estimators=400 ...................\n",
      "[CV] .... criterion=gini, max_depth=7, n_estimators=400, total=   0.8s\n",
      "[CV] criterion=gini, max_depth=7, n_estimators=400 ...................\n",
      "[CV] .... criterion=gini, max_depth=7, n_estimators=400, total=   0.7s\n",
      "[CV] criterion=gini, max_depth=7, n_estimators=600 ...................\n",
      "[CV] .... criterion=gini, max_depth=7, n_estimators=600, total=   1.3s\n",
      "[CV] criterion=gini, max_depth=7, n_estimators=600 ...................\n",
      "[CV] .... criterion=gini, max_depth=7, n_estimators=600, total=   1.2s\n",
      "[CV] criterion=gini, max_depth=7, n_estimators=600 ...................\n",
      "[CV] .... criterion=gini, max_depth=7, n_estimators=600, total=   1.4s\n",
      "[CV] criterion=gini, max_depth=7, n_estimators=600 ...................\n",
      "[CV] .... criterion=gini, max_depth=7, n_estimators=600, total=   1.8s\n",
      "[CV] criterion=gini, max_depth=7, n_estimators=600 ...................\n",
      "[CV] .... criterion=gini, max_depth=7, n_estimators=600, total=   1.1s\n",
      "[CV] criterion=gini, max_depth=7, n_estimators=800 ...................\n",
      "[CV] .... criterion=gini, max_depth=7, n_estimators=800, total=   1.5s\n",
      "[CV] criterion=gini, max_depth=7, n_estimators=800 ...................\n",
      "[CV] .... criterion=gini, max_depth=7, n_estimators=800, total=   1.8s\n",
      "[CV] criterion=gini, max_depth=7, n_estimators=800 ...................\n",
      "[CV] .... criterion=gini, max_depth=7, n_estimators=800, total=   3.2s\n",
      "[CV] criterion=gini, max_depth=7, n_estimators=800 ...................\n",
      "[CV] .... criterion=gini, max_depth=7, n_estimators=800, total=   2.6s\n",
      "[CV] criterion=gini, max_depth=7, n_estimators=800 ...................\n",
      "[CV] .... criterion=gini, max_depth=7, n_estimators=800, total=   3.1s\n",
      "[CV] criterion=gini, max_depth=7, n_estimators=1000 ..................\n",
      "[CV] ... criterion=gini, max_depth=7, n_estimators=1000, total=   2.7s\n",
      "[CV] criterion=gini, max_depth=7, n_estimators=1000 ..................\n",
      "[CV] ... criterion=gini, max_depth=7, n_estimators=1000, total=   2.5s\n",
      "[CV] criterion=gini, max_depth=7, n_estimators=1000 ..................\n",
      "[CV] ... criterion=gini, max_depth=7, n_estimators=1000, total=   1.7s\n",
      "[CV] criterion=gini, max_depth=7, n_estimators=1000 ..................\n",
      "[CV] ... criterion=gini, max_depth=7, n_estimators=1000, total=   1.7s\n",
      "[CV] criterion=gini, max_depth=7, n_estimators=1000 ..................\n",
      "[CV] ... criterion=gini, max_depth=7, n_estimators=1000, total=   2.4s\n",
      "[CV] criterion=gini, max_depth=9, n_estimators=200 ...................\n",
      "[CV] .... criterion=gini, max_depth=9, n_estimators=200, total=   0.4s\n",
      "[CV] criterion=gini, max_depth=9, n_estimators=200 ...................\n",
      "[CV] .... criterion=gini, max_depth=9, n_estimators=200, total=   0.4s\n",
      "[CV] criterion=gini, max_depth=9, n_estimators=200 ...................\n",
      "[CV] .... criterion=gini, max_depth=9, n_estimators=200, total=   0.6s\n",
      "[CV] criterion=gini, max_depth=9, n_estimators=200 ...................\n",
      "[CV] .... criterion=gini, max_depth=9, n_estimators=200, total=   0.4s\n",
      "[CV] criterion=gini, max_depth=9, n_estimators=200 ...................\n",
      "[CV] .... criterion=gini, max_depth=9, n_estimators=200, total=   0.4s\n",
      "[CV] criterion=gini, max_depth=9, n_estimators=400 ...................\n",
      "[CV] .... criterion=gini, max_depth=9, n_estimators=400, total=   1.0s\n",
      "[CV] criterion=gini, max_depth=9, n_estimators=400 ...................\n",
      "[CV] .... criterion=gini, max_depth=9, n_estimators=400, total=   0.9s\n",
      "[CV] criterion=gini, max_depth=9, n_estimators=400 ...................\n",
      "[CV] .... criterion=gini, max_depth=9, n_estimators=400, total=   0.9s\n",
      "[CV] criterion=gini, max_depth=9, n_estimators=400 ...................\n",
      "[CV] .... criterion=gini, max_depth=9, n_estimators=400, total=   0.8s\n",
      "[CV] criterion=gini, max_depth=9, n_estimators=400 ...................\n",
      "[CV] .... criterion=gini, max_depth=9, n_estimators=400, total=   0.7s\n",
      "[CV] criterion=gini, max_depth=9, n_estimators=600 ...................\n",
      "[CV] .... criterion=gini, max_depth=9, n_estimators=600, total=   1.1s\n",
      "[CV] criterion=gini, max_depth=9, n_estimators=600 ...................\n",
      "[CV] .... criterion=gini, max_depth=9, n_estimators=600, total=   1.0s\n",
      "[CV] criterion=gini, max_depth=9, n_estimators=600 ...................\n",
      "[CV] .... criterion=gini, max_depth=9, n_estimators=600, total=   1.0s\n",
      "[CV] criterion=gini, max_depth=9, n_estimators=600 ...................\n",
      "[CV] .... criterion=gini, max_depth=9, n_estimators=600, total=   1.1s\n",
      "[CV] criterion=gini, max_depth=9, n_estimators=600 ...................\n",
      "[CV] .... criterion=gini, max_depth=9, n_estimators=600, total=   1.5s\n",
      "[CV] criterion=gini, max_depth=9, n_estimators=800 ...................\n",
      "[CV] .... criterion=gini, max_depth=9, n_estimators=800, total=   1.6s\n",
      "[CV] criterion=gini, max_depth=9, n_estimators=800 ...................\n",
      "[CV] .... criterion=gini, max_depth=9, n_estimators=800, total=   1.4s\n",
      "[CV] criterion=gini, max_depth=9, n_estimators=800 ...................\n"
     ]
    },
    {
     "name": "stdout",
     "output_type": "stream",
     "text": [
      "[CV] .... criterion=gini, max_depth=9, n_estimators=800, total=   1.6s\n",
      "[CV] criterion=gini, max_depth=9, n_estimators=800 ...................\n",
      "[CV] .... criterion=gini, max_depth=9, n_estimators=800, total=   1.7s\n",
      "[CV] criterion=gini, max_depth=9, n_estimators=800 ...................\n",
      "[CV] .... criterion=gini, max_depth=9, n_estimators=800, total=   1.8s\n",
      "[CV] criterion=gini, max_depth=9, n_estimators=1000 ..................\n",
      "[CV] ... criterion=gini, max_depth=9, n_estimators=1000, total=   2.1s\n",
      "[CV] criterion=gini, max_depth=9, n_estimators=1000 ..................\n",
      "[CV] ... criterion=gini, max_depth=9, n_estimators=1000, total=   3.1s\n",
      "[CV] criterion=gini, max_depth=9, n_estimators=1000 ..................\n",
      "[CV] ... criterion=gini, max_depth=9, n_estimators=1000, total=   1.8s\n",
      "[CV] criterion=gini, max_depth=9, n_estimators=1000 ..................\n",
      "[CV] ... criterion=gini, max_depth=9, n_estimators=1000, total=   1.8s\n",
      "[CV] criterion=gini, max_depth=9, n_estimators=1000 ..................\n",
      "[CV] ... criterion=gini, max_depth=9, n_estimators=1000, total=   1.8s\n",
      "[CV] criterion=entropy, max_depth=1, n_estimators=200 ................\n",
      "[CV] . criterion=entropy, max_depth=1, n_estimators=200, total=   0.3s\n",
      "[CV] criterion=entropy, max_depth=1, n_estimators=200 ................\n",
      "[CV] . criterion=entropy, max_depth=1, n_estimators=200, total=   0.3s\n",
      "[CV] criterion=entropy, max_depth=1, n_estimators=200 ................\n",
      "[CV] . criterion=entropy, max_depth=1, n_estimators=200, total=   0.3s\n",
      "[CV] criterion=entropy, max_depth=1, n_estimators=200 ................\n",
      "[CV] . criterion=entropy, max_depth=1, n_estimators=200, total=   0.4s\n",
      "[CV] criterion=entropy, max_depth=1, n_estimators=200 ................\n",
      "[CV] . criterion=entropy, max_depth=1, n_estimators=200, total=   0.3s\n",
      "[CV] criterion=entropy, max_depth=1, n_estimators=400 ................\n",
      "[CV] . criterion=entropy, max_depth=1, n_estimators=400, total=   0.6s\n",
      "[CV] criterion=entropy, max_depth=1, n_estimators=400 ................\n",
      "[CV] . criterion=entropy, max_depth=1, n_estimators=400, total=   0.6s\n",
      "[CV] criterion=entropy, max_depth=1, n_estimators=400 ................\n",
      "[CV] . criterion=entropy, max_depth=1, n_estimators=400, total=   0.6s\n",
      "[CV] criterion=entropy, max_depth=1, n_estimators=400 ................\n",
      "[CV] . criterion=entropy, max_depth=1, n_estimators=400, total=   0.6s\n",
      "[CV] criterion=entropy, max_depth=1, n_estimators=400 ................\n",
      "[CV] . criterion=entropy, max_depth=1, n_estimators=400, total=   0.6s\n",
      "[CV] criterion=entropy, max_depth=1, n_estimators=600 ................\n",
      "[CV] . criterion=entropy, max_depth=1, n_estimators=600, total=   0.8s\n",
      "[CV] criterion=entropy, max_depth=1, n_estimators=600 ................\n",
      "[CV] . criterion=entropy, max_depth=1, n_estimators=600, total=   1.5s\n",
      "[CV] criterion=entropy, max_depth=1, n_estimators=600 ................\n",
      "[CV] . criterion=entropy, max_depth=1, n_estimators=600, total=   1.5s\n",
      "[CV] criterion=entropy, max_depth=1, n_estimators=600 ................\n",
      "[CV] . criterion=entropy, max_depth=1, n_estimators=600, total=   1.1s\n",
      "[CV] criterion=entropy, max_depth=1, n_estimators=600 ................\n",
      "[CV] . criterion=entropy, max_depth=1, n_estimators=600, total=   1.0s\n",
      "[CV] criterion=entropy, max_depth=1, n_estimators=800 ................\n",
      "[CV] . criterion=entropy, max_depth=1, n_estimators=800, total=   1.4s\n",
      "[CV] criterion=entropy, max_depth=1, n_estimators=800 ................\n",
      "[CV] . criterion=entropy, max_depth=1, n_estimators=800, total=   2.3s\n",
      "[CV] criterion=entropy, max_depth=1, n_estimators=800 ................\n",
      "[CV] . criterion=entropy, max_depth=1, n_estimators=800, total=   2.0s\n",
      "[CV] criterion=entropy, max_depth=1, n_estimators=800 ................\n",
      "[CV] . criterion=entropy, max_depth=1, n_estimators=800, total=   2.0s\n",
      "[CV] criterion=entropy, max_depth=1, n_estimators=800 ................\n",
      "[CV] . criterion=entropy, max_depth=1, n_estimators=800, total=   3.2s\n",
      "[CV] criterion=entropy, max_depth=1, n_estimators=1000 ...............\n",
      "[CV]  criterion=entropy, max_depth=1, n_estimators=1000, total=   4.7s\n",
      "[CV] criterion=entropy, max_depth=1, n_estimators=1000 ...............\n",
      "[CV]  criterion=entropy, max_depth=1, n_estimators=1000, total=   6.2s\n",
      "[CV] criterion=entropy, max_depth=1, n_estimators=1000 ...............\n",
      "[CV]  criterion=entropy, max_depth=1, n_estimators=1000, total=   3.3s\n",
      "[CV] criterion=entropy, max_depth=1, n_estimators=1000 ...............\n",
      "[CV]  criterion=entropy, max_depth=1, n_estimators=1000, total=   2.3s\n",
      "[CV] criterion=entropy, max_depth=1, n_estimators=1000 ...............\n",
      "[CV]  criterion=entropy, max_depth=1, n_estimators=1000, total=   2.0s\n",
      "[CV] criterion=entropy, max_depth=3, n_estimators=200 ................\n",
      "[CV] . criterion=entropy, max_depth=3, n_estimators=200, total=   0.3s\n",
      "[CV] criterion=entropy, max_depth=3, n_estimators=200 ................\n",
      "[CV] . criterion=entropy, max_depth=3, n_estimators=200, total=   0.4s\n",
      "[CV] criterion=entropy, max_depth=3, n_estimators=200 ................\n",
      "[CV] . criterion=entropy, max_depth=3, n_estimators=200, total=   0.3s\n",
      "[CV] criterion=entropy, max_depth=3, n_estimators=200 ................\n",
      "[CV] . criterion=entropy, max_depth=3, n_estimators=200, total=   0.3s\n",
      "[CV] criterion=entropy, max_depth=3, n_estimators=200 ................\n",
      "[CV] . criterion=entropy, max_depth=3, n_estimators=200, total=   0.3s\n",
      "[CV] criterion=entropy, max_depth=3, n_estimators=400 ................\n",
      "[CV] . criterion=entropy, max_depth=3, n_estimators=400, total=   0.6s\n",
      "[CV] criterion=entropy, max_depth=3, n_estimators=400 ................\n",
      "[CV] . criterion=entropy, max_depth=3, n_estimators=400, total=   1.3s\n",
      "[CV] criterion=entropy, max_depth=3, n_estimators=400 ................\n",
      "[CV] . criterion=entropy, max_depth=3, n_estimators=400, total=   1.1s\n",
      "[CV] criterion=entropy, max_depth=3, n_estimators=400 ................\n",
      "[CV] . criterion=entropy, max_depth=3, n_estimators=400, total=   0.8s\n",
      "[CV] criterion=entropy, max_depth=3, n_estimators=400 ................\n",
      "[CV] . criterion=entropy, max_depth=3, n_estimators=400, total=   1.2s\n",
      "[CV] criterion=entropy, max_depth=3, n_estimators=600 ................\n",
      "[CV] . criterion=entropy, max_depth=3, n_estimators=600, total=   2.2s\n",
      "[CV] criterion=entropy, max_depth=3, n_estimators=600 ................\n",
      "[CV] . criterion=entropy, max_depth=3, n_estimators=600, total=   1.0s\n",
      "[CV] criterion=entropy, max_depth=3, n_estimators=600 ................\n",
      "[CV] . criterion=entropy, max_depth=3, n_estimators=600, total=   1.6s\n",
      "[CV] criterion=entropy, max_depth=3, n_estimators=600 ................\n",
      "[CV] . criterion=entropy, max_depth=3, n_estimators=600, total=   1.2s\n",
      "[CV] criterion=entropy, max_depth=3, n_estimators=600 ................\n",
      "[CV] . criterion=entropy, max_depth=3, n_estimators=600, total=   1.9s\n",
      "[CV] criterion=entropy, max_depth=3, n_estimators=800 ................\n",
      "[CV] . criterion=entropy, max_depth=3, n_estimators=800, total=   1.8s\n",
      "[CV] criterion=entropy, max_depth=3, n_estimators=800 ................\n",
      "[CV] . criterion=entropy, max_depth=3, n_estimators=800, total=   1.4s\n",
      "[CV] criterion=entropy, max_depth=3, n_estimators=800 ................\n",
      "[CV] . criterion=entropy, max_depth=3, n_estimators=800, total=   1.2s\n",
      "[CV] criterion=entropy, max_depth=3, n_estimators=800 ................\n",
      "[CV] . criterion=entropy, max_depth=3, n_estimators=800, total=   1.3s\n",
      "[CV] criterion=entropy, max_depth=3, n_estimators=800 ................\n",
      "[CV] . criterion=entropy, max_depth=3, n_estimators=800, total=   1.4s\n",
      "[CV] criterion=entropy, max_depth=3, n_estimators=1000 ...............\n",
      "[CV]  criterion=entropy, max_depth=3, n_estimators=1000, total=   1.7s\n",
      "[CV] criterion=entropy, max_depth=3, n_estimators=1000 ...............\n",
      "[CV]  criterion=entropy, max_depth=3, n_estimators=1000, total=   1.7s\n",
      "[CV] criterion=entropy, max_depth=3, n_estimators=1000 ...............\n",
      "[CV]  criterion=entropy, max_depth=3, n_estimators=1000, total=   1.7s\n",
      "[CV] criterion=entropy, max_depth=3, n_estimators=1000 ...............\n",
      "[CV]  criterion=entropy, max_depth=3, n_estimators=1000, total=   1.7s\n",
      "[CV] criterion=entropy, max_depth=3, n_estimators=1000 ...............\n",
      "[CV]  criterion=entropy, max_depth=3, n_estimators=1000, total=   1.6s\n",
      "[CV] criterion=entropy, max_depth=5, n_estimators=200 ................\n"
     ]
    },
    {
     "name": "stdout",
     "output_type": "stream",
     "text": [
      "[CV] . criterion=entropy, max_depth=5, n_estimators=200, total=   0.4s\n",
      "[CV] criterion=entropy, max_depth=5, n_estimators=200 ................\n",
      "[CV] . criterion=entropy, max_depth=5, n_estimators=200, total=   0.5s\n",
      "[CV] criterion=entropy, max_depth=5, n_estimators=200 ................\n",
      "[CV] . criterion=entropy, max_depth=5, n_estimators=200, total=   0.4s\n",
      "[CV] criterion=entropy, max_depth=5, n_estimators=200 ................\n",
      "[CV] . criterion=entropy, max_depth=5, n_estimators=200, total=   0.4s\n",
      "[CV] criterion=entropy, max_depth=5, n_estimators=200 ................\n",
      "[CV] . criterion=entropy, max_depth=5, n_estimators=200, total=   0.4s\n",
      "[CV] criterion=entropy, max_depth=5, n_estimators=400 ................\n",
      "[CV] . criterion=entropy, max_depth=5, n_estimators=400, total=   0.9s\n",
      "[CV] criterion=entropy, max_depth=5, n_estimators=400 ................\n",
      "[CV] . criterion=entropy, max_depth=5, n_estimators=400, total=   1.0s\n",
      "[CV] criterion=entropy, max_depth=5, n_estimators=400 ................\n",
      "[CV] . criterion=entropy, max_depth=5, n_estimators=400, total=   0.7s\n",
      "[CV] criterion=entropy, max_depth=5, n_estimators=400 ................\n",
      "[CV] . criterion=entropy, max_depth=5, n_estimators=400, total=   0.7s\n",
      "[CV] criterion=entropy, max_depth=5, n_estimators=400 ................\n",
      "[CV] . criterion=entropy, max_depth=5, n_estimators=400, total=   0.7s\n",
      "[CV] criterion=entropy, max_depth=5, n_estimators=600 ................\n",
      "[CV] . criterion=entropy, max_depth=5, n_estimators=600, total=   1.1s\n",
      "[CV] criterion=entropy, max_depth=5, n_estimators=600 ................\n",
      "[CV] . criterion=entropy, max_depth=5, n_estimators=600, total=   1.5s\n",
      "[CV] criterion=entropy, max_depth=5, n_estimators=600 ................\n",
      "[CV] . criterion=entropy, max_depth=5, n_estimators=600, total=   2.0s\n",
      "[CV] criterion=entropy, max_depth=5, n_estimators=600 ................\n",
      "[CV] . criterion=entropy, max_depth=5, n_estimators=600, total=   1.5s\n",
      "[CV] criterion=entropy, max_depth=5, n_estimators=600 ................\n",
      "[CV] . criterion=entropy, max_depth=5, n_estimators=600, total=   1.4s\n",
      "[CV] criterion=entropy, max_depth=5, n_estimators=800 ................\n",
      "[CV] . criterion=entropy, max_depth=5, n_estimators=800, total=   2.3s\n",
      "[CV] criterion=entropy, max_depth=5, n_estimators=800 ................\n",
      "[CV] . criterion=entropy, max_depth=5, n_estimators=800, total=   2.2s\n",
      "[CV] criterion=entropy, max_depth=5, n_estimators=800 ................\n",
      "[CV] . criterion=entropy, max_depth=5, n_estimators=800, total=   1.9s\n",
      "[CV] criterion=entropy, max_depth=5, n_estimators=800 ................\n",
      "[CV] . criterion=entropy, max_depth=5, n_estimators=800, total=   2.1s\n",
      "[CV] criterion=entropy, max_depth=5, n_estimators=800 ................\n",
      "[CV] . criterion=entropy, max_depth=5, n_estimators=800, total=   1.7s\n",
      "[CV] criterion=entropy, max_depth=5, n_estimators=1000 ...............\n",
      "[CV]  criterion=entropy, max_depth=5, n_estimators=1000, total=   3.4s\n",
      "[CV] criterion=entropy, max_depth=5, n_estimators=1000 ...............\n",
      "[CV]  criterion=entropy, max_depth=5, n_estimators=1000, total=   2.9s\n",
      "[CV] criterion=entropy, max_depth=5, n_estimators=1000 ...............\n",
      "[CV]  criterion=entropy, max_depth=5, n_estimators=1000, total=   2.4s\n",
      "[CV] criterion=entropy, max_depth=5, n_estimators=1000 ...............\n",
      "[CV]  criterion=entropy, max_depth=5, n_estimators=1000, total=   2.4s\n",
      "[CV] criterion=entropy, max_depth=5, n_estimators=1000 ...............\n",
      "[CV]  criterion=entropy, max_depth=5, n_estimators=1000, total=   2.1s\n",
      "[CV] criterion=entropy, max_depth=7, n_estimators=200 ................\n",
      "[CV] . criterion=entropy, max_depth=7, n_estimators=200, total=   0.8s\n",
      "[CV] criterion=entropy, max_depth=7, n_estimators=200 ................\n",
      "[CV] . criterion=entropy, max_depth=7, n_estimators=200, total=   0.4s\n",
      "[CV] criterion=entropy, max_depth=7, n_estimators=200 ................\n",
      "[CV] . criterion=entropy, max_depth=7, n_estimators=200, total=   0.4s\n",
      "[CV] criterion=entropy, max_depth=7, n_estimators=200 ................\n",
      "[CV] . criterion=entropy, max_depth=7, n_estimators=200, total=   0.5s\n",
      "[CV] criterion=entropy, max_depth=7, n_estimators=200 ................\n",
      "[CV] . criterion=entropy, max_depth=7, n_estimators=200, total=   0.4s\n",
      "[CV] criterion=entropy, max_depth=7, n_estimators=400 ................\n",
      "[CV] . criterion=entropy, max_depth=7, n_estimators=400, total=   1.8s\n",
      "[CV] criterion=entropy, max_depth=7, n_estimators=400 ................\n",
      "[CV] . criterion=entropy, max_depth=7, n_estimators=400, total=   1.6s\n",
      "[CV] criterion=entropy, max_depth=7, n_estimators=400 ................\n",
      "[CV] . criterion=entropy, max_depth=7, n_estimators=400, total=   1.1s\n",
      "[CV] criterion=entropy, max_depth=7, n_estimators=400 ................\n",
      "[CV] . criterion=entropy, max_depth=7, n_estimators=400, total=   1.0s\n",
      "[CV] criterion=entropy, max_depth=7, n_estimators=400 ................\n",
      "[CV] . criterion=entropy, max_depth=7, n_estimators=400, total=   1.0s\n",
      "[CV] criterion=entropy, max_depth=7, n_estimators=600 ................\n",
      "[CV] . criterion=entropy, max_depth=7, n_estimators=600, total=   1.0s\n",
      "[CV] criterion=entropy, max_depth=7, n_estimators=600 ................\n",
      "[CV] . criterion=entropy, max_depth=7, n_estimators=600, total=   0.9s\n",
      "[CV] criterion=entropy, max_depth=7, n_estimators=600 ................\n",
      "[CV] . criterion=entropy, max_depth=7, n_estimators=600, total=   1.0s\n",
      "[CV] criterion=entropy, max_depth=7, n_estimators=600 ................\n",
      "[CV] . criterion=entropy, max_depth=7, n_estimators=600, total=   1.1s\n",
      "[CV] criterion=entropy, max_depth=7, n_estimators=600 ................\n",
      "[CV] . criterion=entropy, max_depth=7, n_estimators=600, total=   1.1s\n",
      "[CV] criterion=entropy, max_depth=7, n_estimators=800 ................\n",
      "[CV] . criterion=entropy, max_depth=7, n_estimators=800, total=   1.9s\n",
      "[CV] criterion=entropy, max_depth=7, n_estimators=800 ................\n",
      "[CV] . criterion=entropy, max_depth=7, n_estimators=800, total=   1.3s\n",
      "[CV] criterion=entropy, max_depth=7, n_estimators=800 ................\n",
      "[CV] . criterion=entropy, max_depth=7, n_estimators=800, total=   1.3s\n",
      "[CV] criterion=entropy, max_depth=7, n_estimators=800 ................\n",
      "[CV] . criterion=entropy, max_depth=7, n_estimators=800, total=   1.4s\n",
      "[CV] criterion=entropy, max_depth=7, n_estimators=800 ................\n",
      "[CV] . criterion=entropy, max_depth=7, n_estimators=800, total=   1.4s\n",
      "[CV] criterion=entropy, max_depth=7, n_estimators=1000 ...............\n",
      "[CV]  criterion=entropy, max_depth=7, n_estimators=1000, total=   1.7s\n",
      "[CV] criterion=entropy, max_depth=7, n_estimators=1000 ...............\n",
      "[CV]  criterion=entropy, max_depth=7, n_estimators=1000, total=   1.7s\n",
      "[CV] criterion=entropy, max_depth=7, n_estimators=1000 ...............\n",
      "[CV]  criterion=entropy, max_depth=7, n_estimators=1000, total=   1.7s\n",
      "[CV] criterion=entropy, max_depth=7, n_estimators=1000 ...............\n",
      "[CV]  criterion=entropy, max_depth=7, n_estimators=1000, total=   1.9s\n",
      "[CV] criterion=entropy, max_depth=7, n_estimators=1000 ...............\n",
      "[CV]  criterion=entropy, max_depth=7, n_estimators=1000, total=   1.6s\n",
      "[CV] criterion=entropy, max_depth=9, n_estimators=200 ................\n",
      "[CV] . criterion=entropy, max_depth=9, n_estimators=200, total=   0.3s\n",
      "[CV] criterion=entropy, max_depth=9, n_estimators=200 ................\n",
      "[CV] . criterion=entropy, max_depth=9, n_estimators=200, total=   0.3s\n",
      "[CV] criterion=entropy, max_depth=9, n_estimators=200 ................\n",
      "[CV] . criterion=entropy, max_depth=9, n_estimators=200, total=   0.3s\n",
      "[CV] criterion=entropy, max_depth=9, n_estimators=200 ................\n",
      "[CV] . criterion=entropy, max_depth=9, n_estimators=200, total=   0.4s\n",
      "[CV] criterion=entropy, max_depth=9, n_estimators=200 ................\n",
      "[CV] . criterion=entropy, max_depth=9, n_estimators=200, total=   0.4s\n",
      "[CV] criterion=entropy, max_depth=9, n_estimators=400 ................\n",
      "[CV] . criterion=entropy, max_depth=9, n_estimators=400, total=   0.6s\n",
      "[CV] criterion=entropy, max_depth=9, n_estimators=400 ................\n",
      "[CV] . criterion=entropy, max_depth=9, n_estimators=400, total=   0.6s\n",
      "[CV] criterion=entropy, max_depth=9, n_estimators=400 ................\n",
      "[CV] . criterion=entropy, max_depth=9, n_estimators=400, total=   0.6s\n",
      "[CV] criterion=entropy, max_depth=9, n_estimators=400 ................\n"
     ]
    },
    {
     "name": "stdout",
     "output_type": "stream",
     "text": [
      "[CV] . criterion=entropy, max_depth=9, n_estimators=400, total=   0.7s\n",
      "[CV] criterion=entropy, max_depth=9, n_estimators=400 ................\n",
      "[CV] . criterion=entropy, max_depth=9, n_estimators=400, total=   0.7s\n",
      "[CV] criterion=entropy, max_depth=9, n_estimators=600 ................\n",
      "[CV] . criterion=entropy, max_depth=9, n_estimators=600, total=   0.9s\n",
      "[CV] criterion=entropy, max_depth=9, n_estimators=600 ................\n",
      "[CV] . criterion=entropy, max_depth=9, n_estimators=600, total=   1.0s\n",
      "[CV] criterion=entropy, max_depth=9, n_estimators=600 ................\n",
      "[CV] . criterion=entropy, max_depth=9, n_estimators=600, total=   1.2s\n",
      "[CV] criterion=entropy, max_depth=9, n_estimators=600 ................\n",
      "[CV] . criterion=entropy, max_depth=9, n_estimators=600, total=   1.0s\n",
      "[CV] criterion=entropy, max_depth=9, n_estimators=600 ................\n",
      "[CV] . criterion=entropy, max_depth=9, n_estimators=600, total=   1.0s\n",
      "[CV] criterion=entropy, max_depth=9, n_estimators=800 ................\n",
      "[CV] . criterion=entropy, max_depth=9, n_estimators=800, total=   1.5s\n",
      "[CV] criterion=entropy, max_depth=9, n_estimators=800 ................\n",
      "[CV] . criterion=entropy, max_depth=9, n_estimators=800, total=   1.4s\n",
      "[CV] criterion=entropy, max_depth=9, n_estimators=800 ................\n",
      "[CV] . criterion=entropy, max_depth=9, n_estimators=800, total=   1.5s\n",
      "[CV] criterion=entropy, max_depth=9, n_estimators=800 ................\n",
      "[CV] . criterion=entropy, max_depth=9, n_estimators=800, total=   1.3s\n",
      "[CV] criterion=entropy, max_depth=9, n_estimators=800 ................\n",
      "[CV] . criterion=entropy, max_depth=9, n_estimators=800, total=   1.4s\n",
      "[CV] criterion=entropy, max_depth=9, n_estimators=1000 ...............\n",
      "[CV]  criterion=entropy, max_depth=9, n_estimators=1000, total=   1.6s\n",
      "[CV] criterion=entropy, max_depth=9, n_estimators=1000 ...............\n",
      "[CV]  criterion=entropy, max_depth=9, n_estimators=1000, total=   1.6s\n",
      "[CV] criterion=entropy, max_depth=9, n_estimators=1000 ...............\n",
      "[CV]  criterion=entropy, max_depth=9, n_estimators=1000, total=   1.7s\n",
      "[CV] criterion=entropy, max_depth=9, n_estimators=1000 ...............\n",
      "[CV]  criterion=entropy, max_depth=9, n_estimators=1000, total=   1.6s\n",
      "[CV] criterion=entropy, max_depth=9, n_estimators=1000 ...............\n",
      "[CV]  criterion=entropy, max_depth=9, n_estimators=1000, total=   1.5s\n"
     ]
    },
    {
     "name": "stderr",
     "output_type": "stream",
     "text": [
      "[Parallel(n_jobs=1)]: Done 250 out of 250 | elapsed:  5.6min finished\n"
     ]
    },
    {
     "name": "stdout",
     "output_type": "stream",
     "text": [
      "0.7653631284916201 {'criterion': 'gini', 'max_depth': 5, 'n_estimators': 600}\n"
     ]
    }
   ],
   "source": [
    "from sklearn.ensemble import RandomForestClassifier\n",
    "n_estimators = [int(x) for x in np.linspace(start = 200, stop = 1000, num = 5)]\n",
    "criterion = ['gini','entropy']\n",
    "max_depth = [int(x) for x in np.linspace(start = 1, stop = 9, num = 5)]\n",
    "rf_grid = {'n_estimators':n_estimators,\n",
    "              'criterion':criterion,\n",
    "              'max_depth':max_depth}\n",
    "rf = RandomForestClassifier()\n",
    "rf_cv = GridSearchCV(rf,rf_grid,cv=5, verbose=2)\n",
    "rf_cv.fit(x_train_scaled, y_train)\n",
    "print(rf_cv.best_score_, rf_cv.best_params_)"
   ]
  },
  {
   "cell_type": "code",
   "execution_count": 30,
   "metadata": {
    "tags": []
   },
   "outputs": [
    {
     "name": "stdout",
     "output_type": "stream",
     "text": [
      "0.7748917748917749\n"
     ]
    }
   ],
   "source": [
    "rf_test = RandomForestClassifier(\n",
    "    n_estimators = 600, \n",
    "    criterion = 'gini',\n",
    "    max_depth = 5)\n",
    "rf_test.fit(x_train_scaled, y_train)\n",
    "print(rf_test.score(x_test_scaled, y_test))"
   ]
  },
  {
   "cell_type": "code",
   "execution_count": 36,
   "metadata": {},
   "outputs": [
    {
     "name": "stdout",
     "output_type": "stream",
     "text": [
      "8\n"
     ]
    },
    {
     "data": {
      "image/png": "[encoded data removed]",
      "text/plain": [
       "<Figure size 720x720 with 1 Axes>"
      ]
     },
     "metadata": {
      "needs_background": "light"
     },
     "output_type": "display_data"
    }
   ],
   "source": [
    "feature_importance = rf_test.feature_importances_\n",
    "# make importances relative to max importance\n",
    "feature_importance = 100.0 * (feature_importance / feature_importance.max())[:30]\n",
    "sorted_idx = np.argsort(feature_importance)[:30]\n",
    "\n",
    "pos = np.arange(sorted_idx.shape[0])\n",
    "print(pos.size)\n",
    "sorted_idx.size\n",
    "plt.figure(figsize=(10,10))\n",
    "plt.barh(pos, feature_importance[sorted_idx], align='center')\n",
    "plt.yticks(pos, x.columns[sorted_idx])\n",
    "plt.xlabel('Relative Importance')\n",
    "plt.title('Variable Importance')\n",
    "plt.show()"
   ]
  },
  {
   "cell_type": "code",
   "execution_count": null,
   "metadata": {},
   "outputs": [],
   "source": []
  }
 ],
 "metadata": {
  "kernelspec": {
   "display_name": "Python 3",
   "language": "python",
   "name": "python3"
  },
  "language_info": {
   "codemirror_mode": {
    "name": "ipython",
    "version": 3
   },
   "file_extension": ".py",
   "mimetype": "text/x-python",
   "name": "python",
   "nbconvert_exporter": "python",
   "pygments_lexer": "ipython3",
   "version": "3.7.4"
  }
 },
 "nbformat": 4,
 "nbformat_minor": 2
}
